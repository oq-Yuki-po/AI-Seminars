{
  "nbformat": 4,
  "nbformat_minor": 0,
  "metadata": {
    "colab": {
      "name": "nonlinear-regression.ipynb",
      "provenance": []
    },
    "kernelspec": {
      "name": "python3",
      "display_name": "Python 3"
    }
  },
  "cells": [
    {
      "cell_type": "markdown",
      "metadata": {
        "id": "LK81tntoG2AU",
        "colab_type": "text"
      },
      "source": [
        "# Nonlinear regression exercises"
      ]
    },
    {
      "cell_type": "markdown",
      "metadata": {
        "id": "VmCEeRTHG8P3",
        "colab_type": "text"
      },
      "source": [
        "## Linear regression review."
      ]
    },
    {
      "cell_type": "code",
      "metadata": {
        "id": "Pm9zjcm30b6y",
        "colab_type": "code",
        "colab": {}
      },
      "source": [
        "# Import the necessary libraries.\n",
        "import numpy as np\n",
        "import matplotlib.pyplot as plt"
      ],
      "execution_count": 1,
      "outputs": []
    },
    {
      "cell_type": "code",
      "metadata": {
        "id": "ihyclVjU1H-g",
        "colab_type": "code",
        "colab": {}
      },
      "source": [
        "# Create data.\n",
        "data_size = 20\n",
        "X = np.linspace(0, 1, data_size)\n",
        "# Include noise.\n",
        "noise = np.random.uniform(low=-1.0, high=1.0, size=data_size) * 0.2\n",
        "y = np.sin(2.0 * np.pi * X) + noise"
      ],
      "execution_count": 2,
      "outputs": []
    },
    {
      "cell_type": "code",
      "metadata": {
        "id": "JNgLcJ6w1sKN",
        "colab_type": "code",
        "colab": {}
      },
      "source": [
        "X_line = np.linspace(0, 1, 1000)\n",
        "sin_X = np.sin(2.0 * np.pi * X_line)"
      ],
      "execution_count": 3,
      "outputs": []
    },
    {
      "cell_type": "code",
      "metadata": {
        "id": "CKktgKUz1-eF",
        "colab_type": "code",
        "colab": {
          "base_uri": "https://localhost:8080/",
          "height": 265
        },
        "outputId": "8725a990-7f0a-4155-f2e0-f64885989f12"
      },
      "source": [
        "# Drawing functions for training data and correct answer data.\n",
        "def plot_sin():\n",
        "  plt.scatter(X, y)\n",
        "  plt.plot(X_line, sin_X, 'red')\n",
        "plot_sin()"
      ],
      "execution_count": 4,
      "outputs": [
        {
          "output_type": "display_data",
          "data": {
            "image/png": "[encoded data removed]",
            "text/plain": [
              "<Figure size 432x288 with 1 Axes>"
            ]
          },
          "metadata": {
            "tags": [],
            "needs_background": "light"
          }
        }
      ]
    },
    {
      "cell_type": "code",
      "metadata": {
        "id": "K82BSffW2WiR",
        "colab_type": "code",
        "colab": {}
      },
      "source": [
        "from sklearn.linear_model import LinearRegression"
      ],
      "execution_count": 5,
      "outputs": []
    },
    {
      "cell_type": "code",
      "metadata": {
        "id": "hD47FroU2bSR",
        "colab_type": "code",
        "colab": {}
      },
      "source": [
        "# Predicted by linear regression.\n",
        "lin_reg = LinearRegression().fit(X.reshape(-1, 1), y)"
      ],
      "execution_count": 6,
      "outputs": []
    },
    {
      "cell_type": "code",
      "metadata": {
        "id": "D4gVn2PM2wii",
        "colab_type": "code",
        "colab": {
          "base_uri": "https://localhost:8080/",
          "height": 34
        },
        "outputId": "10dca953-a137-4d76-a6b4-c7eaf4ffbd17"
      },
      "source": [
        "# Check the regression variables and intercepts.\n",
        "lin_reg.intercept_, lin_reg.coef_"
      ],
      "execution_count": 7,
      "outputs": [
        {
          "output_type": "execute_result",
          "data": {
            "text/plain": [
              "(0.8284329606722655, array([-1.63413944]))"
            ]
          },
          "metadata": {
            "tags": []
          },
          "execution_count": 7
        }
      ]
    },
    {
      "cell_type": "code",
      "metadata": {
        "id": "jBXU1PMf2-8A",
        "colab_type": "code",
        "colab": {
          "base_uri": "https://localhost:8080/",
          "height": 265
        },
        "outputId": "b79bd0fa-5522-4c6b-cfc9-27fb84c44ba6"
      },
      "source": [
        "# Draw the model.\n",
        "plt.plot(X_line, lin_reg.intercept_ + lin_reg.coef_ * X_line)\n",
        "plot_sin()"
      ],
      "execution_count": 8,
      "outputs": [
        {
          "output_type": "display_data",
          "data": {
            "image/png": "[encoded data removed]",
            "text/plain": [
              "<Figure size 432x288 with 1 Axes>"
            ]
          },
          "metadata": {
            "tags": [],
            "needs_background": "light"
          }
        }
      ]
    },
    {
      "cell_type": "markdown",
      "metadata": {
        "id": "dFoZVtZUHGRa",
        "colab_type": "text"
      },
      "source": [
        "## polynomial regression"
      ]
    },
    {
      "cell_type": "code",
      "metadata": {
        "id": "6eLTwWUY3Ofq",
        "colab_type": "code",
        "colab": {}
      },
      "source": [
        "# Predict the model by the square.\n",
        "X_2 = X ** 2"
      ],
      "execution_count": 9,
      "outputs": []
    },
    {
      "cell_type": "code",
      "metadata": {
        "id": "wEhYollU3SJ5",
        "colab_type": "code",
        "colab": {}
      },
      "source": [
        "X_new = np.concatenate([X.reshape(-1, 1), X_2.reshape(-1, 1)], axis=1)"
      ],
      "execution_count": 10,
      "outputs": []
    },
    {
      "cell_type": "code",
      "metadata": {
        "id": "VqYE6gbE3hiD",
        "colab_type": "code",
        "colab": {
          "base_uri": "https://localhost:8080/",
          "height": 85
        },
        "outputId": "fe56c884-abe2-426e-bec5-4d72a0b83e48"
      },
      "source": [
        "X_2"
      ],
      "execution_count": 11,
      "outputs": [
        {
          "output_type": "execute_result",
          "data": {
            "text/plain": [
              "array([0.        , 0.00277008, 0.01108033, 0.02493075, 0.04432133,\n",
              "       0.06925208, 0.09972299, 0.13573407, 0.17728532, 0.22437673,\n",
              "       0.27700831, 0.33518006, 0.39889197, 0.46814404, 0.54293629,\n",
              "       0.6232687 , 0.70914127, 0.80055402, 0.89750693, 1.        ])"
            ]
          },
          "metadata": {
            "tags": []
          },
          "execution_count": 11
        }
      ]
    },
    {
      "cell_type": "code",
      "metadata": {
        "id": "DUjuYNqr30LA",
        "colab_type": "code",
        "colab": {}
      },
      "source": [
        "lin_reg_2 = LinearRegression().fit(X_new, y)"
      ],
      "execution_count": 12,
      "outputs": []
    },
    {
      "cell_type": "code",
      "metadata": {
        "id": "HFXTwkDo39sT",
        "colab_type": "code",
        "colab": {
          "base_uri": "https://localhost:8080/",
          "height": 34
        },
        "outputId": "cf7679b6-44ca-4086-b3c3-b36618a97415"
      },
      "source": [
        "lin_reg_2.intercept_, lin_reg_2.coef_"
      ],
      "execution_count": 13,
      "outputs": [
        {
          "output_type": "execute_result",
          "data": {
            "text/plain": [
              "(0.7786933756057179, array([-1.31912206, -0.31501737]))"
            ]
          },
          "metadata": {
            "tags": []
          },
          "execution_count": 13
        }
      ]
    },
    {
      "cell_type": "code",
      "metadata": {
        "id": "rGZYqtBX4DIx",
        "colab_type": "code",
        "colab": {
          "base_uri": "https://localhost:8080/",
          "height": 265
        },
        "outputId": "760aec94-e2e3-415a-b17d-ea16f5bd5c35"
      },
      "source": [
        "plt.plot(X_line, lin_reg_2.intercept_ + lin_reg_2.coef_[0] * X_line + lin_reg_2.coef_[1] * X_line ** 2)\n",
        "plot_sin()"
      ],
      "execution_count": 14,
      "outputs": [
        {
          "output_type": "display_data",
          "data": {
            "image/png": "[encoded data removed]",
            "text/plain": [
              "<Figure size 432x288 with 1 Axes>"
            ]
          },
          "metadata": {
            "tags": [],
            "needs_background": "light"
          }
        }
      ]
    },
    {
      "cell_type": "code",
      "metadata": {
        "id": "47Jjl7Gg4WoJ",
        "colab_type": "code",
        "colab": {}
      },
      "source": [
        "from sklearn.preprocessing import PolynomialFeatures"
      ],
      "execution_count": 15,
      "outputs": []
    },
    {
      "cell_type": "code",
      "metadata": {
        "id": "H43OBCQm4bYO",
        "colab_type": "code",
        "colab": {}
      },
      "source": [
        "# Polynomial regression.\n",
        "poly = PolynomialFeatures(degree=3)\n",
        "poly.fit(X.reshape(-1, 1))\n",
        "X_poly_3 = poly.transform(X.reshape(-1, 1))"
      ],
      "execution_count": 16,
      "outputs": []
    },
    {
      "cell_type": "code",
      "metadata": {
        "id": "MUQvxrKF4w4L",
        "colab_type": "code",
        "colab": {
          "base_uri": "https://localhost:8080/",
          "height": 357
        },
        "outputId": "2d0093dc-bd41-4392-bc74-3e4c3bad1ac4"
      },
      "source": [
        "X_poly_3"
      ],
      "execution_count": 17,
      "outputs": [
        {
          "output_type": "execute_result",
          "data": {
            "text/plain": [
              "array([[1.00000000e+00, 0.00000000e+00, 0.00000000e+00, 0.00000000e+00],\n",
              "       [1.00000000e+00, 5.26315789e-02, 2.77008310e-03, 1.45793847e-04],\n",
              "       [1.00000000e+00, 1.05263158e-01, 1.10803324e-02, 1.16635078e-03],\n",
              "       [1.00000000e+00, 1.57894737e-01, 2.49307479e-02, 3.93643388e-03],\n",
              "       [1.00000000e+00, 2.10526316e-01, 4.43213296e-02, 9.33080624e-03],\n",
              "       [1.00000000e+00, 2.63157895e-01, 6.92520776e-02, 1.82242309e-02],\n",
              "       [1.00000000e+00, 3.15789474e-01, 9.97229917e-02, 3.14914711e-02],\n",
              "       [1.00000000e+00, 3.68421053e-01, 1.35734072e-01, 5.00072897e-02],\n",
              "       [1.00000000e+00, 4.21052632e-01, 1.77285319e-01, 7.46464499e-02],\n",
              "       [1.00000000e+00, 4.73684211e-01, 2.24376731e-01, 1.06283715e-01],\n",
              "       [1.00000000e+00, 5.26315789e-01, 2.77008310e-01, 1.45793847e-01],\n",
              "       [1.00000000e+00, 5.78947368e-01, 3.35180055e-01, 1.94051611e-01],\n",
              "       [1.00000000e+00, 6.31578947e-01, 3.98891967e-01, 2.51931768e-01],\n",
              "       [1.00000000e+00, 6.84210526e-01, 4.68144044e-01, 3.20309083e-01],\n",
              "       [1.00000000e+00, 7.36842105e-01, 5.42936288e-01, 4.00058318e-01],\n",
              "       [1.00000000e+00, 7.89473684e-01, 6.23268698e-01, 4.92054235e-01],\n",
              "       [1.00000000e+00, 8.42105263e-01, 7.09141274e-01, 5.97171599e-01],\n",
              "       [1.00000000e+00, 8.94736842e-01, 8.00554017e-01, 7.16285173e-01],\n",
              "       [1.00000000e+00, 9.47368421e-01, 8.97506925e-01, 8.50269719e-01],\n",
              "       [1.00000000e+00, 1.00000000e+00, 1.00000000e+00, 1.00000000e+00]])"
            ]
          },
          "metadata": {
            "tags": []
          },
          "execution_count": 17
        }
      ]
    },
    {
      "cell_type": "code",
      "metadata": {
        "id": "lVKsSzsv4zp-",
        "colab_type": "code",
        "colab": {}
      },
      "source": [
        "lin_reg_3 = LinearRegression().fit(X_poly_3, y)"
      ],
      "execution_count": 18,
      "outputs": []
    },
    {
      "cell_type": "code",
      "metadata": {
        "id": "sszjoUfn49Am",
        "colab_type": "code",
        "colab": {
          "base_uri": "https://localhost:8080/",
          "height": 265
        },
        "outputId": "156e9a4b-aca7-4ff3-9492-92819353b7d1"
      },
      "source": [
        "X_line_poly_3 = poly.fit_transform(X_line.reshape(-1, 1))\n",
        "plt.plot(X_line, lin_reg_3.predict(X_line_poly_3))\n",
        "plot_sin()"
      ],
      "execution_count": 19,
      "outputs": [
        {
          "output_type": "display_data",
          "data": {
            "image/png": "[encoded data removed]",
            "text/plain": [
              "<Figure size 432x288 with 1 Axes>"
            ]
          },
          "metadata": {
            "tags": [],
            "needs_background": "light"
          }
        }
      ]
    },
    {
      "cell_type": "code",
      "metadata": {
        "id": "g6r-ky-O5fCv",
        "colab_type": "code",
        "colab": {
          "base_uri": "https://localhost:8080/",
          "height": 265
        },
        "outputId": "49d4c09f-8951-496c-8de6-75a2f40efd3a"
      },
      "source": [
        "# Check overfitting.\n",
        "fig, axes = plt.subplots(1, 3, figsize=(16, 4))\n",
        "\n",
        "for degree, ax in zip([5, 15, 25], axes):\n",
        "  poly = PolynomialFeatures(degree=degree)\n",
        "  X_poly = poly.fit_transform(X.reshape(-1, 1))\n",
        "  lin_reg = LinearRegression().fit(X_poly, y)\n",
        "  X_line_poly = poly.fit_transform(X_line.reshape(-1, 1))\n",
        "  ax.plot(X_line, lin_reg.predict(X_line_poly))\n",
        "  ax.scatter(X, y)\n",
        "  ax.plot(X_line, sin_X, 'red')"
      ],
      "execution_count": 20,
      "outputs": [
        {
          "output_type": "display_data",
          "data": {
            "image/png": "[encoded data removed]",
            "text/plain": [
              "<Figure size 1152x288 with 3 Axes>"
            ]
          },
          "metadata": {
            "tags": [],
            "needs_background": "light"
          }
        }
      ]
    },
    {
      "cell_type": "markdown",
      "metadata": {
        "id": "Vd6oZ4xsGy8L",
        "colab_type": "text"
      },
      "source": [
        "## Ridge and Lasso regressions"
      ]
    },
    {
      "cell_type": "code",
      "metadata": {
        "id": "xg2l9n4xAitT",
        "colab_type": "code",
        "colab": {}
      },
      "source": [
        "!pip install -q mglearn\n",
        "import mglearn\n",
        "import pandas as pd\n",
        "from sklearn.model_selection import  train_test_split"
      ],
      "execution_count": 21,
      "outputs": []
    },
    {
      "cell_type": "code",
      "metadata": {
        "id": "EBTQPz_1AsVb",
        "colab_type": "code",
        "colab": {}
      },
      "source": [
        "X, y = mglearn.datasets.load_extended_boston()"
      ],
      "execution_count": 22,
      "outputs": []
    },
    {
      "cell_type": "code",
      "metadata": {
        "id": "nGRn5bjKBMI6",
        "colab_type": "code",
        "colab": {
          "base_uri": "https://localhost:8080/",
          "height": 238
        },
        "outputId": "959d596a-9ce8-4d00-b196-07fb11ba3cf8"
      },
      "source": [
        "X"
      ],
      "execution_count": 23,
      "outputs": [
        {
          "output_type": "execute_result",
          "data": {
            "text/plain": [
              "array([[0.00000000e+00, 1.80000000e-01, 6.78152493e-02, ...,\n",
              "        1.00000000e+00, 8.96799117e-02, 8.04248656e-03],\n",
              "       [2.35922539e-04, 0.00000000e+00, 2.42302053e-01, ...,\n",
              "        1.00000000e+00, 2.04470199e-01, 4.18080621e-02],\n",
              "       [2.35697744e-04, 0.00000000e+00, 2.42302053e-01, ...,\n",
              "        9.79579831e-01, 6.28144504e-02, 4.02790570e-03],\n",
              "       ...,\n",
              "       [6.11892474e-04, 0.00000000e+00, 4.20454545e-01, ...,\n",
              "        1.00000000e+00, 1.07891832e-01, 1.16406475e-02],\n",
              "       [1.16072990e-03, 0.00000000e+00, 4.20454545e-01, ...,\n",
              "        9.82676920e-01, 1.29930407e-01, 1.71795127e-02],\n",
              "       [4.61841693e-04, 0.00000000e+00, 4.20454545e-01, ...,\n",
              "        1.00000000e+00, 1.69701987e-01, 2.87987643e-02]])"
            ]
          },
          "metadata": {
            "tags": []
          },
          "execution_count": 23
        }
      ]
    },
    {
      "cell_type": "code",
      "metadata": {
        "id": "hvntvXnxBNeV",
        "colab_type": "code",
        "colab": {
          "base_uri": "https://localhost:8080/",
          "height": 799
        },
        "outputId": "8a327da8-bd49-4f97-d17c-fd9984930b28"
      },
      "source": [
        "y"
      ],
      "execution_count": 24,
      "outputs": [
        {
          "output_type": "execute_result",
          "data": {
            "text/plain": [
              "array([24. , 21.6, 34.7, 33.4, 36.2, 28.7, 22.9, 27.1, 16.5, 18.9, 15. ,\n",
              "       18.9, 21.7, 20.4, 18.2, 19.9, 23.1, 17.5, 20.2, 18.2, 13.6, 19.6,\n",
              "       15.2, 14.5, 15.6, 13.9, 16.6, 14.8, 18.4, 21. , 12.7, 14.5, 13.2,\n",
              "       13.1, 13.5, 18.9, 20. , 21. , 24.7, 30.8, 34.9, 26.6, 25.3, 24.7,\n",
              "       21.2, 19.3, 20. , 16.6, 14.4, 19.4, 19.7, 20.5, 25. , 23.4, 18.9,\n",
              "       35.4, 24.7, 31.6, 23.3, 19.6, 18.7, 16. , 22.2, 25. , 33. , 23.5,\n",
              "       19.4, 22. , 17.4, 20.9, 24.2, 21.7, 22.8, 23.4, 24.1, 21.4, 20. ,\n",
              "       20.8, 21.2, 20.3, 28. , 23.9, 24.8, 22.9, 23.9, 26.6, 22.5, 22.2,\n",
              "       23.6, 28.7, 22.6, 22. , 22.9, 25. , 20.6, 28.4, 21.4, 38.7, 43.8,\n",
              "       33.2, 27.5, 26.5, 18.6, 19.3, 20.1, 19.5, 19.5, 20.4, 19.8, 19.4,\n",
              "       21.7, 22.8, 18.8, 18.7, 18.5, 18.3, 21.2, 19.2, 20.4, 19.3, 22. ,\n",
              "       20.3, 20.5, 17.3, 18.8, 21.4, 15.7, 16.2, 18. , 14.3, 19.2, 19.6,\n",
              "       23. , 18.4, 15.6, 18.1, 17.4, 17.1, 13.3, 17.8, 14. , 14.4, 13.4,\n",
              "       15.6, 11.8, 13.8, 15.6, 14.6, 17.8, 15.4, 21.5, 19.6, 15.3, 19.4,\n",
              "       17. , 15.6, 13.1, 41.3, 24.3, 23.3, 27. , 50. , 50. , 50. , 22.7,\n",
              "       25. , 50. , 23.8, 23.8, 22.3, 17.4, 19.1, 23.1, 23.6, 22.6, 29.4,\n",
              "       23.2, 24.6, 29.9, 37.2, 39.8, 36.2, 37.9, 32.5, 26.4, 29.6, 50. ,\n",
              "       32. , 29.8, 34.9, 37. , 30.5, 36.4, 31.1, 29.1, 50. , 33.3, 30.3,\n",
              "       34.6, 34.9, 32.9, 24.1, 42.3, 48.5, 50. , 22.6, 24.4, 22.5, 24.4,\n",
              "       20. , 21.7, 19.3, 22.4, 28.1, 23.7, 25. , 23.3, 28.7, 21.5, 23. ,\n",
              "       26.7, 21.7, 27.5, 30.1, 44.8, 50. , 37.6, 31.6, 46.7, 31.5, 24.3,\n",
              "       31.7, 41.7, 48.3, 29. , 24. , 25.1, 31.5, 23.7, 23.3, 22. , 20.1,\n",
              "       22.2, 23.7, 17.6, 18.5, 24.3, 20.5, 24.5, 26.2, 24.4, 24.8, 29.6,\n",
              "       42.8, 21.9, 20.9, 44. , 50. , 36. , 30.1, 33.8, 43.1, 48.8, 31. ,\n",
              "       36.5, 22.8, 30.7, 50. , 43.5, 20.7, 21.1, 25.2, 24.4, 35.2, 32.4,\n",
              "       32. , 33.2, 33.1, 29.1, 35.1, 45.4, 35.4, 46. , 50. , 32.2, 22. ,\n",
              "       20.1, 23.2, 22.3, 24.8, 28.5, 37.3, 27.9, 23.9, 21.7, 28.6, 27.1,\n",
              "       20.3, 22.5, 29. , 24.8, 22. , 26.4, 33.1, 36.1, 28.4, 33.4, 28.2,\n",
              "       22.8, 20.3, 16.1, 22.1, 19.4, 21.6, 23.8, 16.2, 17.8, 19.8, 23.1,\n",
              "       21. , 23.8, 23.1, 20.4, 18.5, 25. , 24.6, 23. , 22.2, 19.3, 22.6,\n",
              "       19.8, 17.1, 19.4, 22.2, 20.7, 21.1, 19.5, 18.5, 20.6, 19. , 18.7,\n",
              "       32.7, 16.5, 23.9, 31.2, 17.5, 17.2, 23.1, 24.5, 26.6, 22.9, 24.1,\n",
              "       18.6, 30.1, 18.2, 20.6, 17.8, 21.7, 22.7, 22.6, 25. , 19.9, 20.8,\n",
              "       16.8, 21.9, 27.5, 21.9, 23.1, 50. , 50. , 50. , 50. , 50. , 13.8,\n",
              "       13.8, 15. , 13.9, 13.3, 13.1, 10.2, 10.4, 10.9, 11.3, 12.3,  8.8,\n",
              "        7.2, 10.5,  7.4, 10.2, 11.5, 15.1, 23.2,  9.7, 13.8, 12.7, 13.1,\n",
              "       12.5,  8.5,  5. ,  6.3,  5.6,  7.2, 12.1,  8.3,  8.5,  5. , 11.9,\n",
              "       27.9, 17.2, 27.5, 15. , 17.2, 17.9, 16.3,  7. ,  7.2,  7.5, 10.4,\n",
              "        8.8,  8.4, 16.7, 14.2, 20.8, 13.4, 11.7,  8.3, 10.2, 10.9, 11. ,\n",
              "        9.5, 14.5, 14.1, 16.1, 14.3, 11.7, 13.4,  9.6,  8.7,  8.4, 12.8,\n",
              "       10.5, 17.1, 18.4, 15.4, 10.8, 11.8, 14.9, 12.6, 14.1, 13. , 13.4,\n",
              "       15.2, 16.1, 17.8, 14.9, 14.1, 12.7, 13.5, 14.9, 20. , 16.4, 17.7,\n",
              "       19.5, 20.2, 21.4, 19.9, 19. , 19.1, 19.1, 20.1, 19.9, 19.6, 23.2,\n",
              "       29.8, 13.8, 13.3, 16.7, 12. , 14.6, 21.4, 23. , 23.7, 25. , 21.8,\n",
              "       20.6, 21.2, 19.1, 20.6, 15.2,  7. ,  8.1, 13.6, 20.1, 21.8, 24.5,\n",
              "       23.1, 19.7, 18.3, 21.2, 17.5, 16.8, 22.4, 20.6, 23.9, 22. , 11.9])"
            ]
          },
          "metadata": {
            "tags": []
          },
          "execution_count": 24
        }
      ]
    },
    {
      "cell_type": "code",
      "metadata": {
        "id": "byG0-5NHBR_0",
        "colab_type": "code",
        "colab": {}
      },
      "source": [
        "df_X = pd.DataFrame(X)\n",
        "df_y = pd.DataFrame(y)"
      ],
      "execution_count": 25,
      "outputs": []
    },
    {
      "cell_type": "code",
      "metadata": {
        "id": "v4IiCICEBZ7T",
        "colab_type": "code",
        "colab": {
          "base_uri": "https://localhost:8080/",
          "height": 439
        },
        "outputId": "6439a9b0-b7d5-4cc7-d033-f06f63dff1c2"
      },
      "source": [
        "df_X"
      ],
      "execution_count": 26,
      "outputs": [
        {
          "output_type": "execute_result",
          "data": {
            "text/html": [
              "<div>\n",
              "<style scoped>\n",
              "    .dataframe tbody tr th:only-of-type {\n",
              "        vertical-align: middle;\n",
              "    }\n",
              "\n",
              "    .dataframe tbody tr th {\n",
              "        vertical-align: top;\n",
              "    }\n",
              "\n",
              "    .dataframe thead th {\n",
              "        text-align: right;\n",
              "    }\n",
              "</style>\n",
              "<table border=\"1\" class=\"dataframe\">\n",
              "  <thead>\n",
              "    <tr style=\"text-align: right;\">\n",
              "      <th></th>\n",
              "      <th>0</th>\n",
              "      <th>1</th>\n",
              "      <th>2</th>\n",
              "      <th>3</th>\n",
              "      <th>4</th>\n",
              "      <th>5</th>\n",
              "      <th>6</th>\n",
              "      <th>7</th>\n",
              "      <th>8</th>\n",
              "      <th>9</th>\n",
              "      <th>10</th>\n",
              "      <th>11</th>\n",
              "      <th>12</th>\n",
              "      <th>13</th>\n",
              "      <th>14</th>\n",
              "      <th>15</th>\n",
              "      <th>16</th>\n",
              "      <th>17</th>\n",
              "      <th>18</th>\n",
              "      <th>19</th>\n",
              "      <th>20</th>\n",
              "      <th>21</th>\n",
              "      <th>22</th>\n",
              "      <th>23</th>\n",
              "      <th>24</th>\n",
              "      <th>25</th>\n",
              "      <th>26</th>\n",
              "      <th>27</th>\n",
              "      <th>28</th>\n",
              "      <th>29</th>\n",
              "      <th>30</th>\n",
              "      <th>31</th>\n",
              "      <th>32</th>\n",
              "      <th>33</th>\n",
              "      <th>34</th>\n",
              "      <th>35</th>\n",
              "      <th>36</th>\n",
              "      <th>37</th>\n",
              "      <th>38</th>\n",
              "      <th>39</th>\n",
              "      <th>...</th>\n",
              "      <th>64</th>\n",
              "      <th>65</th>\n",
              "      <th>66</th>\n",
              "      <th>67</th>\n",
              "      <th>68</th>\n",
              "      <th>69</th>\n",
              "      <th>70</th>\n",
              "      <th>71</th>\n",
              "      <th>72</th>\n",
              "      <th>73</th>\n",
              "      <th>74</th>\n",
              "      <th>75</th>\n",
              "      <th>76</th>\n",
              "      <th>77</th>\n",
              "      <th>78</th>\n",
              "      <th>79</th>\n",
              "      <th>80</th>\n",
              "      <th>81</th>\n",
              "      <th>82</th>\n",
              "      <th>83</th>\n",
              "      <th>84</th>\n",
              "      <th>85</th>\n",
              "      <th>86</th>\n",
              "      <th>87</th>\n",
              "      <th>88</th>\n",
              "      <th>89</th>\n",
              "      <th>90</th>\n",
              "      <th>91</th>\n",
              "      <th>92</th>\n",
              "      <th>93</th>\n",
              "      <th>94</th>\n",
              "      <th>95</th>\n",
              "      <th>96</th>\n",
              "      <th>97</th>\n",
              "      <th>98</th>\n",
              "      <th>99</th>\n",
              "      <th>100</th>\n",
              "      <th>101</th>\n",
              "      <th>102</th>\n",
              "      <th>103</th>\n",
              "    </tr>\n",
              "  </thead>\n",
              "  <tbody>\n",
              "    <tr>\n",
              "      <th>0</th>\n",
              "      <td>0.000000</td>\n",
              "      <td>0.18</td>\n",
              "      <td>0.067815</td>\n",
              "      <td>0.0</td>\n",
              "      <td>0.314815</td>\n",
              "      <td>0.577505</td>\n",
              "      <td>0.641607</td>\n",
              "      <td>0.269203</td>\n",
              "      <td>0.000000</td>\n",
              "      <td>0.208015</td>\n",
              "      <td>0.287234</td>\n",
              "      <td>1.000000</td>\n",
              "      <td>0.089680</td>\n",
              "      <td>0.000000e+00</td>\n",
              "      <td>0.0</td>\n",
              "      <td>0.000000</td>\n",
              "      <td>0.0</td>\n",
              "      <td>0.000000</td>\n",
              "      <td>0.000000</td>\n",
              "      <td>0.000000</td>\n",
              "      <td>0.000000</td>\n",
              "      <td>0.000000</td>\n",
              "      <td>0.000000</td>\n",
              "      <td>0.000000</td>\n",
              "      <td>0.000000</td>\n",
              "      <td>0.000000</td>\n",
              "      <td>0.0324</td>\n",
              "      <td>0.012207</td>\n",
              "      <td>0.0</td>\n",
              "      <td>0.056667</td>\n",
              "      <td>0.103951</td>\n",
              "      <td>0.115489</td>\n",
              "      <td>0.048457</td>\n",
              "      <td>0.0</td>\n",
              "      <td>0.037443</td>\n",
              "      <td>0.051702</td>\n",
              "      <td>0.18</td>\n",
              "      <td>0.016142</td>\n",
              "      <td>0.004599</td>\n",
              "      <td>0.0</td>\n",
              "      <td>...</td>\n",
              "      <td>0.065486</td>\n",
              "      <td>0.090426</td>\n",
              "      <td>0.314815</td>\n",
              "      <td>0.028233</td>\n",
              "      <td>0.333512</td>\n",
              "      <td>0.370531</td>\n",
              "      <td>0.155466</td>\n",
              "      <td>0.000000</td>\n",
              "      <td>0.120130</td>\n",
              "      <td>0.165879</td>\n",
              "      <td>0.577505</td>\n",
              "      <td>0.051791</td>\n",
              "      <td>0.411659</td>\n",
              "      <td>0.172723</td>\n",
              "      <td>0.000000</td>\n",
              "      <td>0.133464</td>\n",
              "      <td>0.184291</td>\n",
              "      <td>0.641607</td>\n",
              "      <td>0.057539</td>\n",
              "      <td>0.072470</td>\n",
              "      <td>0.000000</td>\n",
              "      <td>0.055998</td>\n",
              "      <td>0.077324</td>\n",
              "      <td>0.269203</td>\n",
              "      <td>0.024142</td>\n",
              "      <td>0.000000</td>\n",
              "      <td>0.000000</td>\n",
              "      <td>0.000000</td>\n",
              "      <td>0.000000</td>\n",
              "      <td>0.000000</td>\n",
              "      <td>0.043270</td>\n",
              "      <td>0.059749</td>\n",
              "      <td>0.208015</td>\n",
              "      <td>0.018655</td>\n",
              "      <td>0.082503</td>\n",
              "      <td>0.287234</td>\n",
              "      <td>0.025759</td>\n",
              "      <td>1.000000</td>\n",
              "      <td>0.089680</td>\n",
              "      <td>0.008042</td>\n",
              "    </tr>\n",
              "    <tr>\n",
              "      <th>1</th>\n",
              "      <td>0.000236</td>\n",
              "      <td>0.00</td>\n",
              "      <td>0.242302</td>\n",
              "      <td>0.0</td>\n",
              "      <td>0.172840</td>\n",
              "      <td>0.547998</td>\n",
              "      <td>0.782698</td>\n",
              "      <td>0.348962</td>\n",
              "      <td>0.043478</td>\n",
              "      <td>0.104962</td>\n",
              "      <td>0.553191</td>\n",
              "      <td>1.000000</td>\n",
              "      <td>0.204470</td>\n",
              "      <td>5.565944e-08</td>\n",
              "      <td>0.0</td>\n",
              "      <td>0.000057</td>\n",
              "      <td>0.0</td>\n",
              "      <td>0.000041</td>\n",
              "      <td>0.000129</td>\n",
              "      <td>0.000185</td>\n",
              "      <td>0.000082</td>\n",
              "      <td>0.000010</td>\n",
              "      <td>0.000025</td>\n",
              "      <td>0.000131</td>\n",
              "      <td>0.000236</td>\n",
              "      <td>0.000048</td>\n",
              "      <td>0.0000</td>\n",
              "      <td>0.000000</td>\n",
              "      <td>0.0</td>\n",
              "      <td>0.000000</td>\n",
              "      <td>0.000000</td>\n",
              "      <td>0.000000</td>\n",
              "      <td>0.000000</td>\n",
              "      <td>0.0</td>\n",
              "      <td>0.000000</td>\n",
              "      <td>0.000000</td>\n",
              "      <td>0.00</td>\n",
              "      <td>0.000000</td>\n",
              "      <td>0.058710</td>\n",
              "      <td>0.0</td>\n",
              "      <td>...</td>\n",
              "      <td>0.018142</td>\n",
              "      <td>0.095613</td>\n",
              "      <td>0.172840</td>\n",
              "      <td>0.035341</td>\n",
              "      <td>0.300301</td>\n",
              "      <td>0.428917</td>\n",
              "      <td>0.191230</td>\n",
              "      <td>0.023826</td>\n",
              "      <td>0.057519</td>\n",
              "      <td>0.303148</td>\n",
              "      <td>0.547998</td>\n",
              "      <td>0.112049</td>\n",
              "      <td>0.612617</td>\n",
              "      <td>0.273132</td>\n",
              "      <td>0.034030</td>\n",
              "      <td>0.082153</td>\n",
              "      <td>0.432982</td>\n",
              "      <td>0.782698</td>\n",
              "      <td>0.160038</td>\n",
              "      <td>0.121774</td>\n",
              "      <td>0.015172</td>\n",
              "      <td>0.036628</td>\n",
              "      <td>0.193043</td>\n",
              "      <td>0.348962</td>\n",
              "      <td>0.071352</td>\n",
              "      <td>0.001890</td>\n",
              "      <td>0.004564</td>\n",
              "      <td>0.024052</td>\n",
              "      <td>0.043478</td>\n",
              "      <td>0.008890</td>\n",
              "      <td>0.011017</td>\n",
              "      <td>0.058064</td>\n",
              "      <td>0.104962</td>\n",
              "      <td>0.021462</td>\n",
              "      <td>0.306021</td>\n",
              "      <td>0.553191</td>\n",
              "      <td>0.113111</td>\n",
              "      <td>1.000000</td>\n",
              "      <td>0.204470</td>\n",
              "      <td>0.041808</td>\n",
              "    </tr>\n",
              "    <tr>\n",
              "      <th>2</th>\n",
              "      <td>0.000236</td>\n",
              "      <td>0.00</td>\n",
              "      <td>0.242302</td>\n",
              "      <td>0.0</td>\n",
              "      <td>0.172840</td>\n",
              "      <td>0.694386</td>\n",
              "      <td>0.599382</td>\n",
              "      <td>0.348962</td>\n",
              "      <td>0.043478</td>\n",
              "      <td>0.104962</td>\n",
              "      <td>0.553191</td>\n",
              "      <td>0.989737</td>\n",
              "      <td>0.063466</td>\n",
              "      <td>5.555343e-08</td>\n",
              "      <td>0.0</td>\n",
              "      <td>0.000057</td>\n",
              "      <td>0.0</td>\n",
              "      <td>0.000041</td>\n",
              "      <td>0.000164</td>\n",
              "      <td>0.000141</td>\n",
              "      <td>0.000082</td>\n",
              "      <td>0.000010</td>\n",
              "      <td>0.000025</td>\n",
              "      <td>0.000130</td>\n",
              "      <td>0.000233</td>\n",
              "      <td>0.000015</td>\n",
              "      <td>0.0000</td>\n",
              "      <td>0.000000</td>\n",
              "      <td>0.0</td>\n",
              "      <td>0.000000</td>\n",
              "      <td>0.000000</td>\n",
              "      <td>0.000000</td>\n",
              "      <td>0.000000</td>\n",
              "      <td>0.0</td>\n",
              "      <td>0.000000</td>\n",
              "      <td>0.000000</td>\n",
              "      <td>0.00</td>\n",
              "      <td>0.000000</td>\n",
              "      <td>0.058710</td>\n",
              "      <td>0.0</td>\n",
              "      <td>...</td>\n",
              "      <td>0.018142</td>\n",
              "      <td>0.095613</td>\n",
              "      <td>0.171066</td>\n",
              "      <td>0.010969</td>\n",
              "      <td>0.482172</td>\n",
              "      <td>0.416202</td>\n",
              "      <td>0.242314</td>\n",
              "      <td>0.030191</td>\n",
              "      <td>0.072884</td>\n",
              "      <td>0.384128</td>\n",
              "      <td>0.687260</td>\n",
              "      <td>0.044070</td>\n",
              "      <td>0.359259</td>\n",
              "      <td>0.209162</td>\n",
              "      <td>0.026060</td>\n",
              "      <td>0.062912</td>\n",
              "      <td>0.331573</td>\n",
              "      <td>0.593231</td>\n",
              "      <td>0.038040</td>\n",
              "      <td>0.121774</td>\n",
              "      <td>0.015172</td>\n",
              "      <td>0.036628</td>\n",
              "      <td>0.193043</td>\n",
              "      <td>0.345381</td>\n",
              "      <td>0.022147</td>\n",
              "      <td>0.001890</td>\n",
              "      <td>0.004564</td>\n",
              "      <td>0.024052</td>\n",
              "      <td>0.043032</td>\n",
              "      <td>0.002759</td>\n",
              "      <td>0.011017</td>\n",
              "      <td>0.058064</td>\n",
              "      <td>0.103885</td>\n",
              "      <td>0.006661</td>\n",
              "      <td>0.306021</td>\n",
              "      <td>0.547514</td>\n",
              "      <td>0.035109</td>\n",
              "      <td>0.979580</td>\n",
              "      <td>0.062814</td>\n",
              "      <td>0.004028</td>\n",
              "    </tr>\n",
              "    <tr>\n",
              "      <th>3</th>\n",
              "      <td>0.000293</td>\n",
              "      <td>0.00</td>\n",
              "      <td>0.063050</td>\n",
              "      <td>0.0</td>\n",
              "      <td>0.150206</td>\n",
              "      <td>0.658555</td>\n",
              "      <td>0.441813</td>\n",
              "      <td>0.448545</td>\n",
              "      <td>0.086957</td>\n",
              "      <td>0.066794</td>\n",
              "      <td>0.648936</td>\n",
              "      <td>0.994276</td>\n",
              "      <td>0.033389</td>\n",
              "      <td>8.572933e-08</td>\n",
              "      <td>0.0</td>\n",
              "      <td>0.000018</td>\n",
              "      <td>0.0</td>\n",
              "      <td>0.000044</td>\n",
              "      <td>0.000193</td>\n",
              "      <td>0.000129</td>\n",
              "      <td>0.000131</td>\n",
              "      <td>0.000025</td>\n",
              "      <td>0.000020</td>\n",
              "      <td>0.000190</td>\n",
              "      <td>0.000291</td>\n",
              "      <td>0.000010</td>\n",
              "      <td>0.0000</td>\n",
              "      <td>0.000000</td>\n",
              "      <td>0.0</td>\n",
              "      <td>0.000000</td>\n",
              "      <td>0.000000</td>\n",
              "      <td>0.000000</td>\n",
              "      <td>0.000000</td>\n",
              "      <td>0.0</td>\n",
              "      <td>0.000000</td>\n",
              "      <td>0.000000</td>\n",
              "      <td>0.00</td>\n",
              "      <td>0.000000</td>\n",
              "      <td>0.003975</td>\n",
              "      <td>0.0</td>\n",
              "      <td>...</td>\n",
              "      <td>0.010033</td>\n",
              "      <td>0.097474</td>\n",
              "      <td>0.149346</td>\n",
              "      <td>0.005015</td>\n",
              "      <td>0.433695</td>\n",
              "      <td>0.290958</td>\n",
              "      <td>0.295391</td>\n",
              "      <td>0.057266</td>\n",
              "      <td>0.043987</td>\n",
              "      <td>0.427360</td>\n",
              "      <td>0.654786</td>\n",
              "      <td>0.021988</td>\n",
              "      <td>0.195198</td>\n",
              "      <td>0.198173</td>\n",
              "      <td>0.038418</td>\n",
              "      <td>0.029510</td>\n",
              "      <td>0.286708</td>\n",
              "      <td>0.439284</td>\n",
              "      <td>0.014751</td>\n",
              "      <td>0.201192</td>\n",
              "      <td>0.039004</td>\n",
              "      <td>0.029960</td>\n",
              "      <td>0.291077</td>\n",
              "      <td>0.445977</td>\n",
              "      <td>0.014976</td>\n",
              "      <td>0.007561</td>\n",
              "      <td>0.005808</td>\n",
              "      <td>0.056429</td>\n",
              "      <td>0.086459</td>\n",
              "      <td>0.002903</td>\n",
              "      <td>0.004461</td>\n",
              "      <td>0.043345</td>\n",
              "      <td>0.066412</td>\n",
              "      <td>0.002230</td>\n",
              "      <td>0.421118</td>\n",
              "      <td>0.645222</td>\n",
              "      <td>0.021667</td>\n",
              "      <td>0.988585</td>\n",
              "      <td>0.033197</td>\n",
              "      <td>0.001115</td>\n",
              "    </tr>\n",
              "    <tr>\n",
              "      <th>4</th>\n",
              "      <td>0.000705</td>\n",
              "      <td>0.00</td>\n",
              "      <td>0.063050</td>\n",
              "      <td>0.0</td>\n",
              "      <td>0.150206</td>\n",
              "      <td>0.687105</td>\n",
              "      <td>0.528321</td>\n",
              "      <td>0.448545</td>\n",
              "      <td>0.086957</td>\n",
              "      <td>0.066794</td>\n",
              "      <td>0.648936</td>\n",
              "      <td>1.000000</td>\n",
              "      <td>0.099338</td>\n",
              "      <td>4.971238e-07</td>\n",
              "      <td>0.0</td>\n",
              "      <td>0.000044</td>\n",
              "      <td>0.0</td>\n",
              "      <td>0.000106</td>\n",
              "      <td>0.000484</td>\n",
              "      <td>0.000373</td>\n",
              "      <td>0.000316</td>\n",
              "      <td>0.000061</td>\n",
              "      <td>0.000047</td>\n",
              "      <td>0.000458</td>\n",
              "      <td>0.000705</td>\n",
              "      <td>0.000070</td>\n",
              "      <td>0.0000</td>\n",
              "      <td>0.000000</td>\n",
              "      <td>0.0</td>\n",
              "      <td>0.000000</td>\n",
              "      <td>0.000000</td>\n",
              "      <td>0.000000</td>\n",
              "      <td>0.000000</td>\n",
              "      <td>0.0</td>\n",
              "      <td>0.000000</td>\n",
              "      <td>0.000000</td>\n",
              "      <td>0.00</td>\n",
              "      <td>0.000000</td>\n",
              "      <td>0.003975</td>\n",
              "      <td>0.0</td>\n",
              "      <td>...</td>\n",
              "      <td>0.010033</td>\n",
              "      <td>0.097474</td>\n",
              "      <td>0.150206</td>\n",
              "      <td>0.014921</td>\n",
              "      <td>0.472113</td>\n",
              "      <td>0.363012</td>\n",
              "      <td>0.308197</td>\n",
              "      <td>0.059748</td>\n",
              "      <td>0.045894</td>\n",
              "      <td>0.445887</td>\n",
              "      <td>0.687105</td>\n",
              "      <td>0.068255</td>\n",
              "      <td>0.279123</td>\n",
              "      <td>0.236976</td>\n",
              "      <td>0.045941</td>\n",
              "      <td>0.035289</td>\n",
              "      <td>0.342847</td>\n",
              "      <td>0.528321</td>\n",
              "      <td>0.052482</td>\n",
              "      <td>0.201192</td>\n",
              "      <td>0.039004</td>\n",
              "      <td>0.029960</td>\n",
              "      <td>0.291077</td>\n",
              "      <td>0.448545</td>\n",
              "      <td>0.044557</td>\n",
              "      <td>0.007561</td>\n",
              "      <td>0.005808</td>\n",
              "      <td>0.056429</td>\n",
              "      <td>0.086957</td>\n",
              "      <td>0.008638</td>\n",
              "      <td>0.004461</td>\n",
              "      <td>0.043345</td>\n",
              "      <td>0.066794</td>\n",
              "      <td>0.006635</td>\n",
              "      <td>0.421118</td>\n",
              "      <td>0.648936</td>\n",
              "      <td>0.064464</td>\n",
              "      <td>1.000000</td>\n",
              "      <td>0.099338</td>\n",
              "      <td>0.009868</td>\n",
              "    </tr>\n",
              "    <tr>\n",
              "      <th>...</th>\n",
              "      <td>...</td>\n",
              "      <td>...</td>\n",
              "      <td>...</td>\n",
              "      <td>...</td>\n",
              "      <td>...</td>\n",
              "      <td>...</td>\n",
              "      <td>...</td>\n",
              "      <td>...</td>\n",
              "      <td>...</td>\n",
              "      <td>...</td>\n",
              "      <td>...</td>\n",
              "      <td>...</td>\n",
              "      <td>...</td>\n",
              "      <td>...</td>\n",
              "      <td>...</td>\n",
              "      <td>...</td>\n",
              "      <td>...</td>\n",
              "      <td>...</td>\n",
              "      <td>...</td>\n",
              "      <td>...</td>\n",
              "      <td>...</td>\n",
              "      <td>...</td>\n",
              "      <td>...</td>\n",
              "      <td>...</td>\n",
              "      <td>...</td>\n",
              "      <td>...</td>\n",
              "      <td>...</td>\n",
              "      <td>...</td>\n",
              "      <td>...</td>\n",
              "      <td>...</td>\n",
              "      <td>...</td>\n",
              "      <td>...</td>\n",
              "      <td>...</td>\n",
              "      <td>...</td>\n",
              "      <td>...</td>\n",
              "      <td>...</td>\n",
              "      <td>...</td>\n",
              "      <td>...</td>\n",
              "      <td>...</td>\n",
              "      <td>...</td>\n",
              "      <td>...</td>\n",
              "      <td>...</td>\n",
              "      <td>...</td>\n",
              "      <td>...</td>\n",
              "      <td>...</td>\n",
              "      <td>...</td>\n",
              "      <td>...</td>\n",
              "      <td>...</td>\n",
              "      <td>...</td>\n",
              "      <td>...</td>\n",
              "      <td>...</td>\n",
              "      <td>...</td>\n",
              "      <td>...</td>\n",
              "      <td>...</td>\n",
              "      <td>...</td>\n",
              "      <td>...</td>\n",
              "      <td>...</td>\n",
              "      <td>...</td>\n",
              "      <td>...</td>\n",
              "      <td>...</td>\n",
              "      <td>...</td>\n",
              "      <td>...</td>\n",
              "      <td>...</td>\n",
              "      <td>...</td>\n",
              "      <td>...</td>\n",
              "      <td>...</td>\n",
              "      <td>...</td>\n",
              "      <td>...</td>\n",
              "      <td>...</td>\n",
              "      <td>...</td>\n",
              "      <td>...</td>\n",
              "      <td>...</td>\n",
              "      <td>...</td>\n",
              "      <td>...</td>\n",
              "      <td>...</td>\n",
              "      <td>...</td>\n",
              "      <td>...</td>\n",
              "      <td>...</td>\n",
              "      <td>...</td>\n",
              "      <td>...</td>\n",
              "      <td>...</td>\n",
              "    </tr>\n",
              "    <tr>\n",
              "      <th>501</th>\n",
              "      <td>0.000633</td>\n",
              "      <td>0.00</td>\n",
              "      <td>0.420455</td>\n",
              "      <td>0.0</td>\n",
              "      <td>0.386831</td>\n",
              "      <td>0.580954</td>\n",
              "      <td>0.681771</td>\n",
              "      <td>0.122671</td>\n",
              "      <td>0.000000</td>\n",
              "      <td>0.164122</td>\n",
              "      <td>0.893617</td>\n",
              "      <td>0.987619</td>\n",
              "      <td>0.219095</td>\n",
              "      <td>4.005761e-07</td>\n",
              "      <td>0.0</td>\n",
              "      <td>0.000266</td>\n",
              "      <td>0.0</td>\n",
              "      <td>0.000245</td>\n",
              "      <td>0.000368</td>\n",
              "      <td>0.000432</td>\n",
              "      <td>0.000078</td>\n",
              "      <td>0.000000</td>\n",
              "      <td>0.000104</td>\n",
              "      <td>0.000566</td>\n",
              "      <td>0.000625</td>\n",
              "      <td>0.000139</td>\n",
              "      <td>0.0000</td>\n",
              "      <td>0.000000</td>\n",
              "      <td>0.0</td>\n",
              "      <td>0.000000</td>\n",
              "      <td>0.000000</td>\n",
              "      <td>0.000000</td>\n",
              "      <td>0.000000</td>\n",
              "      <td>0.0</td>\n",
              "      <td>0.000000</td>\n",
              "      <td>0.000000</td>\n",
              "      <td>0.00</td>\n",
              "      <td>0.000000</td>\n",
              "      <td>0.176782</td>\n",
              "      <td>0.0</td>\n",
              "      <td>...</td>\n",
              "      <td>0.063488</td>\n",
              "      <td>0.345679</td>\n",
              "      <td>0.382042</td>\n",
              "      <td>0.084753</td>\n",
              "      <td>0.337508</td>\n",
              "      <td>0.396078</td>\n",
              "      <td>0.071266</td>\n",
              "      <td>0.000000</td>\n",
              "      <td>0.095347</td>\n",
              "      <td>0.519151</td>\n",
              "      <td>0.573761</td>\n",
              "      <td>0.127284</td>\n",
              "      <td>0.464812</td>\n",
              "      <td>0.083634</td>\n",
              "      <td>0.000000</td>\n",
              "      <td>0.111894</td>\n",
              "      <td>0.609243</td>\n",
              "      <td>0.673330</td>\n",
              "      <td>0.149373</td>\n",
              "      <td>0.015048</td>\n",
              "      <td>0.000000</td>\n",
              "      <td>0.020133</td>\n",
              "      <td>0.109621</td>\n",
              "      <td>0.121152</td>\n",
              "      <td>0.026877</td>\n",
              "      <td>0.000000</td>\n",
              "      <td>0.000000</td>\n",
              "      <td>0.000000</td>\n",
              "      <td>0.000000</td>\n",
              "      <td>0.000000</td>\n",
              "      <td>0.026936</td>\n",
              "      <td>0.146662</td>\n",
              "      <td>0.162090</td>\n",
              "      <td>0.035958</td>\n",
              "      <td>0.798551</td>\n",
              "      <td>0.882553</td>\n",
              "      <td>0.195787</td>\n",
              "      <td>0.975392</td>\n",
              "      <td>0.216382</td>\n",
              "      <td>0.048003</td>\n",
              "    </tr>\n",
              "    <tr>\n",
              "      <th>502</th>\n",
              "      <td>0.000438</td>\n",
              "      <td>0.00</td>\n",
              "      <td>0.420455</td>\n",
              "      <td>0.0</td>\n",
              "      <td>0.386831</td>\n",
              "      <td>0.490324</td>\n",
              "      <td>0.760041</td>\n",
              "      <td>0.105293</td>\n",
              "      <td>0.000000</td>\n",
              "      <td>0.164122</td>\n",
              "      <td>0.893617</td>\n",
              "      <td>1.000000</td>\n",
              "      <td>0.202815</td>\n",
              "      <td>1.916589e-07</td>\n",
              "      <td>0.0</td>\n",
              "      <td>0.000184</td>\n",
              "      <td>0.0</td>\n",
              "      <td>0.000169</td>\n",
              "      <td>0.000215</td>\n",
              "      <td>0.000333</td>\n",
              "      <td>0.000046</td>\n",
              "      <td>0.000000</td>\n",
              "      <td>0.000072</td>\n",
              "      <td>0.000391</td>\n",
              "      <td>0.000438</td>\n",
              "      <td>0.000089</td>\n",
              "      <td>0.0000</td>\n",
              "      <td>0.000000</td>\n",
              "      <td>0.0</td>\n",
              "      <td>0.000000</td>\n",
              "      <td>0.000000</td>\n",
              "      <td>0.000000</td>\n",
              "      <td>0.000000</td>\n",
              "      <td>0.0</td>\n",
              "      <td>0.000000</td>\n",
              "      <td>0.000000</td>\n",
              "      <td>0.00</td>\n",
              "      <td>0.000000</td>\n",
              "      <td>0.176782</td>\n",
              "      <td>0.0</td>\n",
              "      <td>...</td>\n",
              "      <td>0.063488</td>\n",
              "      <td>0.345679</td>\n",
              "      <td>0.386831</td>\n",
              "      <td>0.078455</td>\n",
              "      <td>0.240417</td>\n",
              "      <td>0.372666</td>\n",
              "      <td>0.051628</td>\n",
              "      <td>0.000000</td>\n",
              "      <td>0.080473</td>\n",
              "      <td>0.438162</td>\n",
              "      <td>0.490324</td>\n",
              "      <td>0.099445</td>\n",
              "      <td>0.577663</td>\n",
              "      <td>0.080027</td>\n",
              "      <td>0.000000</td>\n",
              "      <td>0.124740</td>\n",
              "      <td>0.679186</td>\n",
              "      <td>0.760041</td>\n",
              "      <td>0.154147</td>\n",
              "      <td>0.011087</td>\n",
              "      <td>0.000000</td>\n",
              "      <td>0.017281</td>\n",
              "      <td>0.094092</td>\n",
              "      <td>0.105293</td>\n",
              "      <td>0.021355</td>\n",
              "      <td>0.000000</td>\n",
              "      <td>0.000000</td>\n",
              "      <td>0.000000</td>\n",
              "      <td>0.000000</td>\n",
              "      <td>0.000000</td>\n",
              "      <td>0.026936</td>\n",
              "      <td>0.146662</td>\n",
              "      <td>0.164122</td>\n",
              "      <td>0.033286</td>\n",
              "      <td>0.798551</td>\n",
              "      <td>0.893617</td>\n",
              "      <td>0.181239</td>\n",
              "      <td>1.000000</td>\n",
              "      <td>0.202815</td>\n",
              "      <td>0.041134</td>\n",
              "    </tr>\n",
              "    <tr>\n",
              "      <th>503</th>\n",
              "      <td>0.000612</td>\n",
              "      <td>0.00</td>\n",
              "      <td>0.420455</td>\n",
              "      <td>0.0</td>\n",
              "      <td>0.386831</td>\n",
              "      <td>0.654340</td>\n",
              "      <td>0.907312</td>\n",
              "      <td>0.094381</td>\n",
              "      <td>0.000000</td>\n",
              "      <td>0.164122</td>\n",
              "      <td>0.893617</td>\n",
              "      <td>1.000000</td>\n",
              "      <td>0.107892</td>\n",
              "      <td>3.744124e-07</td>\n",
              "      <td>0.0</td>\n",
              "      <td>0.000257</td>\n",
              "      <td>0.0</td>\n",
              "      <td>0.000237</td>\n",
              "      <td>0.000400</td>\n",
              "      <td>0.000555</td>\n",
              "      <td>0.000058</td>\n",
              "      <td>0.000000</td>\n",
              "      <td>0.000100</td>\n",
              "      <td>0.000547</td>\n",
              "      <td>0.000612</td>\n",
              "      <td>0.000066</td>\n",
              "      <td>0.0000</td>\n",
              "      <td>0.000000</td>\n",
              "      <td>0.0</td>\n",
              "      <td>0.000000</td>\n",
              "      <td>0.000000</td>\n",
              "      <td>0.000000</td>\n",
              "      <td>0.000000</td>\n",
              "      <td>0.0</td>\n",
              "      <td>0.000000</td>\n",
              "      <td>0.000000</td>\n",
              "      <td>0.00</td>\n",
              "      <td>0.000000</td>\n",
              "      <td>0.176782</td>\n",
              "      <td>0.0</td>\n",
              "      <td>...</td>\n",
              "      <td>0.063488</td>\n",
              "      <td>0.345679</td>\n",
              "      <td>0.386831</td>\n",
              "      <td>0.041736</td>\n",
              "      <td>0.428161</td>\n",
              "      <td>0.593690</td>\n",
              "      <td>0.061757</td>\n",
              "      <td>0.000000</td>\n",
              "      <td>0.107392</td>\n",
              "      <td>0.584729</td>\n",
              "      <td>0.654340</td>\n",
              "      <td>0.070598</td>\n",
              "      <td>0.823215</td>\n",
              "      <td>0.085633</td>\n",
              "      <td>0.000000</td>\n",
              "      <td>0.148910</td>\n",
              "      <td>0.810789</td>\n",
              "      <td>0.907312</td>\n",
              "      <td>0.097892</td>\n",
              "      <td>0.008908</td>\n",
              "      <td>0.000000</td>\n",
              "      <td>0.015490</td>\n",
              "      <td>0.084341</td>\n",
              "      <td>0.094381</td>\n",
              "      <td>0.010183</td>\n",
              "      <td>0.000000</td>\n",
              "      <td>0.000000</td>\n",
              "      <td>0.000000</td>\n",
              "      <td>0.000000</td>\n",
              "      <td>0.000000</td>\n",
              "      <td>0.026936</td>\n",
              "      <td>0.146662</td>\n",
              "      <td>0.164122</td>\n",
              "      <td>0.017707</td>\n",
              "      <td>0.798551</td>\n",
              "      <td>0.893617</td>\n",
              "      <td>0.096414</td>\n",
              "      <td>1.000000</td>\n",
              "      <td>0.107892</td>\n",
              "      <td>0.011641</td>\n",
              "    </tr>\n",
              "    <tr>\n",
              "      <th>504</th>\n",
              "      <td>0.001161</td>\n",
              "      <td>0.00</td>\n",
              "      <td>0.420455</td>\n",
              "      <td>0.0</td>\n",
              "      <td>0.386831</td>\n",
              "      <td>0.619467</td>\n",
              "      <td>0.889804</td>\n",
              "      <td>0.114514</td>\n",
              "      <td>0.000000</td>\n",
              "      <td>0.164122</td>\n",
              "      <td>0.893617</td>\n",
              "      <td>0.991301</td>\n",
              "      <td>0.131071</td>\n",
              "      <td>1.347294e-06</td>\n",
              "      <td>0.0</td>\n",
              "      <td>0.000488</td>\n",
              "      <td>0.0</td>\n",
              "      <td>0.000449</td>\n",
              "      <td>0.000719</td>\n",
              "      <td>0.001033</td>\n",
              "      <td>0.000133</td>\n",
              "      <td>0.000000</td>\n",
              "      <td>0.000191</td>\n",
              "      <td>0.001037</td>\n",
              "      <td>0.001151</td>\n",
              "      <td>0.000152</td>\n",
              "      <td>0.0000</td>\n",
              "      <td>0.000000</td>\n",
              "      <td>0.0</td>\n",
              "      <td>0.000000</td>\n",
              "      <td>0.000000</td>\n",
              "      <td>0.000000</td>\n",
              "      <td>0.000000</td>\n",
              "      <td>0.0</td>\n",
              "      <td>0.000000</td>\n",
              "      <td>0.000000</td>\n",
              "      <td>0.00</td>\n",
              "      <td>0.000000</td>\n",
              "      <td>0.176782</td>\n",
              "      <td>0.0</td>\n",
              "      <td>...</td>\n",
              "      <td>0.063488</td>\n",
              "      <td>0.345679</td>\n",
              "      <td>0.383466</td>\n",
              "      <td>0.050702</td>\n",
              "      <td>0.383740</td>\n",
              "      <td>0.551205</td>\n",
              "      <td>0.070938</td>\n",
              "      <td>0.000000</td>\n",
              "      <td>0.101668</td>\n",
              "      <td>0.553567</td>\n",
              "      <td>0.614078</td>\n",
              "      <td>0.081194</td>\n",
              "      <td>0.791752</td>\n",
              "      <td>0.101895</td>\n",
              "      <td>0.000000</td>\n",
              "      <td>0.146037</td>\n",
              "      <td>0.795144</td>\n",
              "      <td>0.882064</td>\n",
              "      <td>0.116627</td>\n",
              "      <td>0.013113</td>\n",
              "      <td>0.000000</td>\n",
              "      <td>0.018794</td>\n",
              "      <td>0.102332</td>\n",
              "      <td>0.113518</td>\n",
              "      <td>0.015009</td>\n",
              "      <td>0.000000</td>\n",
              "      <td>0.000000</td>\n",
              "      <td>0.000000</td>\n",
              "      <td>0.000000</td>\n",
              "      <td>0.000000</td>\n",
              "      <td>0.026936</td>\n",
              "      <td>0.146662</td>\n",
              "      <td>0.162694</td>\n",
              "      <td>0.021512</td>\n",
              "      <td>0.798551</td>\n",
              "      <td>0.885843</td>\n",
              "      <td>0.117127</td>\n",
              "      <td>0.982677</td>\n",
              "      <td>0.129930</td>\n",
              "      <td>0.017180</td>\n",
              "    </tr>\n",
              "    <tr>\n",
              "      <th>505</th>\n",
              "      <td>0.000462</td>\n",
              "      <td>0.00</td>\n",
              "      <td>0.420455</td>\n",
              "      <td>0.0</td>\n",
              "      <td>0.386831</td>\n",
              "      <td>0.473079</td>\n",
              "      <td>0.802266</td>\n",
              "      <td>0.125072</td>\n",
              "      <td>0.000000</td>\n",
              "      <td>0.164122</td>\n",
              "      <td>0.893617</td>\n",
              "      <td>1.000000</td>\n",
              "      <td>0.169702</td>\n",
              "      <td>2.132977e-07</td>\n",
              "      <td>0.0</td>\n",
              "      <td>0.000194</td>\n",
              "      <td>0.0</td>\n",
              "      <td>0.000179</td>\n",
              "      <td>0.000218</td>\n",
              "      <td>0.000371</td>\n",
              "      <td>0.000058</td>\n",
              "      <td>0.000000</td>\n",
              "      <td>0.000076</td>\n",
              "      <td>0.000413</td>\n",
              "      <td>0.000462</td>\n",
              "      <td>0.000078</td>\n",
              "      <td>0.0000</td>\n",
              "      <td>0.000000</td>\n",
              "      <td>0.0</td>\n",
              "      <td>0.000000</td>\n",
              "      <td>0.000000</td>\n",
              "      <td>0.000000</td>\n",
              "      <td>0.000000</td>\n",
              "      <td>0.0</td>\n",
              "      <td>0.000000</td>\n",
              "      <td>0.000000</td>\n",
              "      <td>0.00</td>\n",
              "      <td>0.000000</td>\n",
              "      <td>0.176782</td>\n",
              "      <td>0.0</td>\n",
              "      <td>...</td>\n",
              "      <td>0.063488</td>\n",
              "      <td>0.345679</td>\n",
              "      <td>0.386831</td>\n",
              "      <td>0.065646</td>\n",
              "      <td>0.223804</td>\n",
              "      <td>0.379535</td>\n",
              "      <td>0.059169</td>\n",
              "      <td>0.000000</td>\n",
              "      <td>0.077643</td>\n",
              "      <td>0.422752</td>\n",
              "      <td>0.473079</td>\n",
              "      <td>0.080282</td>\n",
              "      <td>0.643630</td>\n",
              "      <td>0.100341</td>\n",
              "      <td>0.000000</td>\n",
              "      <td>0.131670</td>\n",
              "      <td>0.716918</td>\n",
              "      <td>0.802266</td>\n",
              "      <td>0.136146</td>\n",
              "      <td>0.015643</td>\n",
              "      <td>0.000000</td>\n",
              "      <td>0.020527</td>\n",
              "      <td>0.111766</td>\n",
              "      <td>0.125072</td>\n",
              "      <td>0.021225</td>\n",
              "      <td>0.000000</td>\n",
              "      <td>0.000000</td>\n",
              "      <td>0.000000</td>\n",
              "      <td>0.000000</td>\n",
              "      <td>0.000000</td>\n",
              "      <td>0.026936</td>\n",
              "      <td>0.146662</td>\n",
              "      <td>0.164122</td>\n",
              "      <td>0.027852</td>\n",
              "      <td>0.798551</td>\n",
              "      <td>0.893617</td>\n",
              "      <td>0.151649</td>\n",
              "      <td>1.000000</td>\n",
              "      <td>0.169702</td>\n",
              "      <td>0.028799</td>\n",
              "    </tr>\n",
              "  </tbody>\n",
              "</table>\n",
              "<p>506 rows × 104 columns</p>\n",
              "</div>"
            ],
            "text/plain": [
              "          0     1         2    3    ...       100       101       102       103\n",
              "0    0.000000  0.18  0.067815  0.0  ...  0.025759  1.000000  0.089680  0.008042\n",
              "1    0.000236  0.00  0.242302  0.0  ...  0.113111  1.000000  0.204470  0.041808\n",
              "2    0.000236  0.00  0.242302  0.0  ...  0.035109  0.979580  0.062814  0.004028\n",
              "3    0.000293  0.00  0.063050  0.0  ...  0.021667  0.988585  0.033197  0.001115\n",
              "4    0.000705  0.00  0.063050  0.0  ...  0.064464  1.000000  0.099338  0.009868\n",
              "..        ...   ...       ...  ...  ...       ...       ...       ...       ...\n",
              "501  0.000633  0.00  0.420455  0.0  ...  0.195787  0.975392  0.216382  0.048003\n",
              "502  0.000438  0.00  0.420455  0.0  ...  0.181239  1.000000  0.202815  0.041134\n",
              "503  0.000612  0.00  0.420455  0.0  ...  0.096414  1.000000  0.107892  0.011641\n",
              "504  0.001161  0.00  0.420455  0.0  ...  0.117127  0.982677  0.129930  0.017180\n",
              "505  0.000462  0.00  0.420455  0.0  ...  0.151649  1.000000  0.169702  0.028799\n",
              "\n",
              "[506 rows x 104 columns]"
            ]
          },
          "metadata": {
            "tags": []
          },
          "execution_count": 26
        }
      ]
    },
    {
      "cell_type": "code",
      "metadata": {
        "id": "zfm4yhxzBePH",
        "colab_type": "code",
        "colab": {}
      },
      "source": [
        "X_train, X_test, y_train, y_test = train_test_split(X, y, random_state=0)"
      ],
      "execution_count": 27,
      "outputs": []
    },
    {
      "cell_type": "code",
      "metadata": {
        "id": "GTPKGhrYBrfh",
        "colab_type": "code",
        "colab": {}
      },
      "source": [
        "lin_reg = LinearRegression().fit(X_train, y_train)"
      ],
      "execution_count": 28,
      "outputs": []
    },
    {
      "cell_type": "code",
      "metadata": {
        "id": "n9pSbX11CdlV",
        "colab_type": "code",
        "colab": {}
      },
      "source": [
        "def print_score(model):\n",
        "  print(round(model.score(X_train, y_train), 3))\n",
        "  print(round(model.score(X_test, y_test), 3))"
      ],
      "execution_count": 29,
      "outputs": []
    },
    {
      "cell_type": "code",
      "metadata": {
        "id": "_w9Q_50jBxi5",
        "colab_type": "code",
        "colab": {
          "base_uri": "https://localhost:8080/",
          "height": 51
        },
        "outputId": "487b64e3-e0a4-4205-a961-dc4698fc3f9c"
      },
      "source": [
        "print_score(lin_reg)"
      ],
      "execution_count": 30,
      "outputs": [
        {
          "output_type": "stream",
          "text": [
            "0.952\n",
            "0.607\n"
          ],
          "name": "stdout"
        }
      ]
    },
    {
      "cell_type": "code",
      "metadata": {
        "id": "PZx_tHjMCDte",
        "colab_type": "code",
        "colab": {}
      },
      "source": [
        "from sklearn.linear_model import Ridge, Lasso"
      ],
      "execution_count": 31,
      "outputs": []
    },
    {
      "cell_type": "markdown",
      "metadata": {
        "id": "tJDqPaSwHPp_",
        "colab_type": "text"
      },
      "source": [
        "## Ridge regressions"
      ]
    },
    {
      "cell_type": "code",
      "metadata": {
        "id": "pJA1xKI_COX2",
        "colab_type": "code",
        "colab": {}
      },
      "source": [
        "ridge = Ridge().fit(X_train, y_train)"
      ],
      "execution_count": 32,
      "outputs": []
    },
    {
      "cell_type": "code",
      "metadata": {
        "id": "EQlAs-wgCWSi",
        "colab_type": "code",
        "colab": {
          "base_uri": "https://localhost:8080/",
          "height": 51
        },
        "outputId": "fc6e2fd1-7cde-44c2-d1ff-f45f9b153551"
      },
      "source": [
        "print_score(ridge)"
      ],
      "execution_count": 33,
      "outputs": [
        {
          "output_type": "stream",
          "text": [
            "0.886\n",
            "0.753\n"
          ],
          "name": "stdout"
        }
      ]
    },
    {
      "cell_type": "code",
      "metadata": {
        "id": "7JeHvdf8CqJd",
        "colab_type": "code",
        "colab": {
          "base_uri": "https://localhost:8080/",
          "height": 51
        },
        "outputId": "e1df9c5e-4c29-43f3-b02b-e28fc9be4bc2"
      },
      "source": [
        "ridge_10 = Ridge(alpha=10).fit(X_train, y_train)\n",
        "print_score(ridge_10)"
      ],
      "execution_count": 34,
      "outputs": [
        {
          "output_type": "stream",
          "text": [
            "0.788\n",
            "0.636\n"
          ],
          "name": "stdout"
        }
      ]
    },
    {
      "cell_type": "code",
      "metadata": {
        "id": "ATm2YI1VC5Bh",
        "colab_type": "code",
        "colab": {
          "base_uri": "https://localhost:8080/",
          "height": 51
        },
        "outputId": "4feb78c7-0ff4-4573-f0f0-8231daeca746"
      },
      "source": [
        "ridge_01 = Ridge(alpha=0.1).fit(X_train, y_train)\n",
        "print_score(ridge_01)"
      ],
      "execution_count": 35,
      "outputs": [
        {
          "output_type": "stream",
          "text": [
            "0.928\n",
            "0.772\n"
          ],
          "name": "stdout"
        }
      ]
    },
    {
      "cell_type": "code",
      "metadata": {
        "id": "FiLFaCPeC-Rs",
        "colab_type": "code",
        "colab": {}
      },
      "source": [
        "coefficients = pd.DataFrame({'lin_reg': lin_reg.coef_, 'ridge':ridge.coef_, 'ridge_10':ridge_10.coef_, 'ridge_01':ridge_01.coef_})"
      ],
      "execution_count": 36,
      "outputs": []
    },
    {
      "cell_type": "code",
      "metadata": {
        "id": "2KmtC294DW7t",
        "colab_type": "code",
        "colab": {
          "base_uri": "https://localhost:8080/",
          "height": 419
        },
        "outputId": "35d572b2-c8a0-465e-8c78-7fc34878d1b9"
      },
      "source": [
        "coefficients"
      ],
      "execution_count": 37,
      "outputs": [
        {
          "output_type": "execute_result",
          "data": {
            "text/html": [
              "<div>\n",
              "<style scoped>\n",
              "    .dataframe tbody tr th:only-of-type {\n",
              "        vertical-align: middle;\n",
              "    }\n",
              "\n",
              "    .dataframe tbody tr th {\n",
              "        vertical-align: top;\n",
              "    }\n",
              "\n",
              "    .dataframe thead th {\n",
              "        text-align: right;\n",
              "    }\n",
              "</style>\n",
              "<table border=\"1\" class=\"dataframe\">\n",
              "  <thead>\n",
              "    <tr style=\"text-align: right;\">\n",
              "      <th></th>\n",
              "      <th>lin_reg</th>\n",
              "      <th>ridge</th>\n",
              "      <th>ridge_10</th>\n",
              "      <th>ridge_01</th>\n",
              "    </tr>\n",
              "  </thead>\n",
              "  <tbody>\n",
              "    <tr>\n",
              "      <th>0</th>\n",
              "      <td>-412.710947</td>\n",
              "      <td>-1.413684</td>\n",
              "      <td>-0.811610</td>\n",
              "      <td>-2.333007</td>\n",
              "    </tr>\n",
              "    <tr>\n",
              "      <th>1</th>\n",
              "      <td>-52.243207</td>\n",
              "      <td>-1.556619</td>\n",
              "      <td>0.647609</td>\n",
              "      <td>-5.441929</td>\n",
              "    </tr>\n",
              "    <tr>\n",
              "      <th>2</th>\n",
              "      <td>-131.898815</td>\n",
              "      <td>-1.465434</td>\n",
              "      <td>-0.809783</td>\n",
              "      <td>-6.128655</td>\n",
              "    </tr>\n",
              "    <tr>\n",
              "      <th>3</th>\n",
              "      <td>-12.004136</td>\n",
              "      <td>-0.126616</td>\n",
              "      <td>0.311335</td>\n",
              "      <td>-0.778525</td>\n",
              "    </tr>\n",
              "    <tr>\n",
              "      <th>4</th>\n",
              "      <td>-15.510713</td>\n",
              "      <td>-0.079119</td>\n",
              "      <td>-0.684624</td>\n",
              "      <td>1.291530</td>\n",
              "    </tr>\n",
              "    <tr>\n",
              "      <th>...</th>\n",
              "      <td>...</td>\n",
              "      <td>...</td>\n",
              "      <td>...</td>\n",
              "      <td>...</td>\n",
              "    </tr>\n",
              "    <tr>\n",
              "      <th>99</th>\n",
              "      <td>35.361714</td>\n",
              "      <td>-2.361124</td>\n",
              "      <td>-1.769550</td>\n",
              "      <td>-0.559662</td>\n",
              "    </tr>\n",
              "    <tr>\n",
              "      <th>100</th>\n",
              "      <td>11.955343</td>\n",
              "      <td>0.043467</td>\n",
              "      <td>-2.036371</td>\n",
              "      <td>4.947479</td>\n",
              "    </tr>\n",
              "    <tr>\n",
              "      <th>101</th>\n",
              "      <td>0.677026</td>\n",
              "      <td>1.208860</td>\n",
              "      <td>1.079849</td>\n",
              "      <td>2.667765</td>\n",
              "    </tr>\n",
              "    <tr>\n",
              "      <th>102</th>\n",
              "      <td>2.734520</td>\n",
              "      <td>-6.325992</td>\n",
              "      <td>-3.952641</td>\n",
              "      <td>-6.907626</td>\n",
              "    </tr>\n",
              "    <tr>\n",
              "      <th>103</th>\n",
              "      <td>30.372001</td>\n",
              "      <td>10.360023</td>\n",
              "      <td>0.142449</td>\n",
              "      <td>24.258596</td>\n",
              "    </tr>\n",
              "  </tbody>\n",
              "</table>\n",
              "<p>104 rows × 4 columns</p>\n",
              "</div>"
            ],
            "text/plain": [
              "        lin_reg      ridge  ridge_10   ridge_01\n",
              "0   -412.710947  -1.413684 -0.811610  -2.333007\n",
              "1    -52.243207  -1.556619  0.647609  -5.441929\n",
              "2   -131.898815  -1.465434 -0.809783  -6.128655\n",
              "3    -12.004136  -0.126616  0.311335  -0.778525\n",
              "4    -15.510713  -0.079119 -0.684624   1.291530\n",
              "..          ...        ...       ...        ...\n",
              "99    35.361714  -2.361124 -1.769550  -0.559662\n",
              "100   11.955343   0.043467 -2.036371   4.947479\n",
              "101    0.677026   1.208860  1.079849   2.667765\n",
              "102    2.734520  -6.325992 -3.952641  -6.907626\n",
              "103   30.372001  10.360023  0.142449  24.258596\n",
              "\n",
              "[104 rows x 4 columns]"
            ]
          },
          "metadata": {
            "tags": []
          },
          "execution_count": 37
        }
      ]
    },
    {
      "cell_type": "markdown",
      "metadata": {
        "id": "TK28oIGGHWru",
        "colab_type": "text"
      },
      "source": [
        "## Lasso regressions"
      ]
    },
    {
      "cell_type": "code",
      "metadata": {
        "id": "Q4oQ9vffDgPq",
        "colab_type": "code",
        "colab": {}
      },
      "source": [
        "lasso = Lasso().fit(X_train, y_train)"
      ],
      "execution_count": 38,
      "outputs": []
    },
    {
      "cell_type": "code",
      "metadata": {
        "id": "cgj2IS95DmAE",
        "colab_type": "code",
        "colab": {
          "base_uri": "https://localhost:8080/",
          "height": 51
        },
        "outputId": "7616edb2-f8d6-4044-b772-82e7bc0b4c18"
      },
      "source": [
        "print_score(lasso)"
      ],
      "execution_count": 39,
      "outputs": [
        {
          "output_type": "stream",
          "text": [
            "0.293\n",
            "0.209\n"
          ],
          "name": "stdout"
        }
      ]
    },
    {
      "cell_type": "code",
      "metadata": {
        "id": "ypGudPXSDuiD",
        "colab_type": "code",
        "colab": {
          "base_uri": "https://localhost:8080/",
          "height": 51
        },
        "outputId": "fc6db0ff-804d-4ad5-96fc-a0fd8a6abee2"
      },
      "source": [
        "lasso_001 = Lasso(alpha=0.01, max_iter=10000).fit(X_train, y_train)\n",
        "print_score(lasso_001)"
      ],
      "execution_count": 40,
      "outputs": [
        {
          "output_type": "stream",
          "text": [
            "0.896\n",
            "0.766\n"
          ],
          "name": "stdout"
        }
      ]
    },
    {
      "cell_type": "code",
      "metadata": {
        "id": "V9EdJ1ttD8tM",
        "colab_type": "code",
        "colab": {}
      },
      "source": [
        "coefficients_lasso = pd.DataFrame({'lin_reg':lin_reg.coef_, 'lasso':lasso.coef_, 'lasso_001':lasso_001.coef_})"
      ],
      "execution_count": 41,
      "outputs": []
    },
    {
      "cell_type": "code",
      "metadata": {
        "id": "g4ffEn5MENme",
        "colab_type": "code",
        "colab": {
          "base_uri": "https://localhost:8080/",
          "height": 419
        },
        "outputId": "5ef62605-65cf-4e3f-bf09-3a1977890216"
      },
      "source": [
        "coefficients_lasso"
      ],
      "execution_count": 42,
      "outputs": [
        {
          "output_type": "execute_result",
          "data": {
            "text/html": [
              "<div>\n",
              "<style scoped>\n",
              "    .dataframe tbody tr th:only-of-type {\n",
              "        vertical-align: middle;\n",
              "    }\n",
              "\n",
              "    .dataframe tbody tr th {\n",
              "        vertical-align: top;\n",
              "    }\n",
              "\n",
              "    .dataframe thead th {\n",
              "        text-align: right;\n",
              "    }\n",
              "</style>\n",
              "<table border=\"1\" class=\"dataframe\">\n",
              "  <thead>\n",
              "    <tr style=\"text-align: right;\">\n",
              "      <th></th>\n",
              "      <th>lin_reg</th>\n",
              "      <th>lasso</th>\n",
              "      <th>lasso_001</th>\n",
              "    </tr>\n",
              "  </thead>\n",
              "  <tbody>\n",
              "    <tr>\n",
              "      <th>0</th>\n",
              "      <td>-412.710947</td>\n",
              "      <td>-0.0</td>\n",
              "      <td>-0.000000</td>\n",
              "    </tr>\n",
              "    <tr>\n",
              "      <th>1</th>\n",
              "      <td>-52.243207</td>\n",
              "      <td>0.0</td>\n",
              "      <td>-0.000000</td>\n",
              "    </tr>\n",
              "    <tr>\n",
              "      <th>2</th>\n",
              "      <td>-131.898815</td>\n",
              "      <td>-0.0</td>\n",
              "      <td>-0.000000</td>\n",
              "    </tr>\n",
              "    <tr>\n",
              "      <th>3</th>\n",
              "      <td>-12.004136</td>\n",
              "      <td>0.0</td>\n",
              "      <td>0.000000</td>\n",
              "    </tr>\n",
              "    <tr>\n",
              "      <th>4</th>\n",
              "      <td>-15.510713</td>\n",
              "      <td>-0.0</td>\n",
              "      <td>-0.000000</td>\n",
              "    </tr>\n",
              "    <tr>\n",
              "      <th>...</th>\n",
              "      <td>...</td>\n",
              "      <td>...</td>\n",
              "      <td>...</td>\n",
              "    </tr>\n",
              "    <tr>\n",
              "      <th>99</th>\n",
              "      <td>35.361714</td>\n",
              "      <td>-0.0</td>\n",
              "      <td>0.000000</td>\n",
              "    </tr>\n",
              "    <tr>\n",
              "      <th>100</th>\n",
              "      <td>11.955343</td>\n",
              "      <td>-0.0</td>\n",
              "      <td>-0.000000</td>\n",
              "    </tr>\n",
              "    <tr>\n",
              "      <th>101</th>\n",
              "      <td>0.677026</td>\n",
              "      <td>0.0</td>\n",
              "      <td>0.344041</td>\n",
              "    </tr>\n",
              "    <tr>\n",
              "      <th>102</th>\n",
              "      <td>2.734520</td>\n",
              "      <td>-0.0</td>\n",
              "      <td>-8.246456</td>\n",
              "    </tr>\n",
              "    <tr>\n",
              "      <th>103</th>\n",
              "      <td>30.372001</td>\n",
              "      <td>-0.0</td>\n",
              "      <td>17.560672</td>\n",
              "    </tr>\n",
              "  </tbody>\n",
              "</table>\n",
              "<p>104 rows × 3 columns</p>\n",
              "</div>"
            ],
            "text/plain": [
              "        lin_reg  lasso  lasso_001\n",
              "0   -412.710947   -0.0  -0.000000\n",
              "1    -52.243207    0.0  -0.000000\n",
              "2   -131.898815   -0.0  -0.000000\n",
              "3    -12.004136    0.0   0.000000\n",
              "4    -15.510713   -0.0  -0.000000\n",
              "..          ...    ...        ...\n",
              "99    35.361714   -0.0   0.000000\n",
              "100   11.955343   -0.0  -0.000000\n",
              "101    0.677026    0.0   0.344041\n",
              "102    2.734520   -0.0  -8.246456\n",
              "103   30.372001   -0.0  17.560672\n",
              "\n",
              "[104 rows x 3 columns]"
            ]
          },
          "metadata": {
            "tags": []
          },
          "execution_count": 42
        }
      ]
    }
  ]
}